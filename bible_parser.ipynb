{
  "nbformat": 4,
  "nbformat_minor": 0,
  "metadata": {
    "colab": {
      "name": "bible_parser",
      "provenance": [],
      "collapsed_sections": [],
      "include_colab_link": true
    },
    "kernelspec": {
      "name": "python3",
      "display_name": "Python 3"
    }
  },
  "cells": [
    {
      "cell_type": "markdown",
      "metadata": {
        "id": "view-in-github",
        "colab_type": "text"
      },
      "source": [
        "<a href=\"https://colab.research.google.com/github/IJS1016/Crawling/blob/master/bible_parser.ipynb\" target=\"_parent\"><img src=\"https://colab.research.google.com/assets/colab-badge.svg\" alt=\"Open In Colab\"/></a>"
      ]
    },
    {
      "cell_type": "code",
      "metadata": {
        "id": "EdR4mslHk4kr",
        "colab_type": "code",
        "outputId": "a5045d51-23b8-4525-b560-5b15a74e9dfa",
        "colab": {
          "base_uri": "https://localhost:8080/",
          "height": 34
        }
      },
      "source": [
        "#Open google drive\n",
        "from google.colab import drive\n",
        "\n",
        "drive.mount('/content/gdrive')"
      ],
      "execution_count": 0,
      "outputs": [
        {
          "output_type": "stream",
          "text": [
            "Drive already mounted at /content/gdrive; to attempt to forcibly remount, call drive.mount(\"/content/gdrive\", force_remount=True).\n"
          ],
          "name": "stdout"
        }
      ]
    },
    {
      "cell_type": "code",
      "metadata": {
        "id": "9_umC6Mqk51y",
        "colab_type": "code",
        "colab": {}
      },
      "source": [
        "#import\n",
        "from bs4 import BeautifulSoup\n",
        "import requests\n",
        "import os\n",
        "import re\n",
        "from urllib.request import Request, urlopen"
      ],
      "execution_count": 0,
      "outputs": []
    },
    {
      "cell_type": "code",
      "metadata": {
        "id": "yXVobeMaFdjt",
        "colab_type": "code",
        "colab": {}
      },
      "source": [
        "version = {'AMP' : ['1588','Amplified Bible'],\n",
        "           'AMPC': ['8', 'Amplified Bible_2'],\n",
        "           'ASV' : ['12', 'Classic Edition'],\n",
        "           'CEB' : ['37', 'Common English Bible'],\n",
        "           'CEV' : ['392', 'Contemporary English Version'],\n",
        "           'CEVDCI': ['303','Contemporary English Version Interconfessional Edition'],\n",
        "           'CEVUK' : ['294','Contemporary English Version (Anglicised) 2012'],\n",
        "           'CJB' : ['1275', 'Complete Jewish Bible'],\n",
        "           'CPDV' : ['42', 'Catholic Public Domain Version'],\n",
        "           'CSB' : ['1713','Christian Standard Bible'],\n",
        "           'DARBY' : ['478',\"Darby's Translation 1890\"],\n",
        "           'DRC1752' : ['55',\"Douay-Rheims Challoner Revision 1752\"],\n",
        "           'EASY' : ['2079',\"EasyEnglish Bible 2018\"],\n",
        "           'ERV' : ['406',\"Holy Bible: Easy-to-Read Version\"],\n",
        "           'ESV' : ['59',\"English Standard Version\"],\n",
        "            'GNB': ['296',\"Good News Bible\"],\n",
        "            'GNBDC': ['416',\"Good News Bible (Anglicised)\"],\n",
        "            'GNBDK': ['431',\"Good News Bible (Catholic edition in Septuagint order)\"],\n",
        "            'GNT': ['68',\"Good News Translation\"],\n",
        "            'GNTD': ['69',\"Good News Translation (US Version)\"],\n",
        "            'GNV': ['2163',\"Geneva Bible\"],   \n",
        "            'GW': ['70',\"GOD'S WORD Translation\"],\n",
        "            'HCSB': ['72',\"Holman Christian Standard Bible\"],   \n",
        "            'ICB': ['1359',\"International Children’s Bible\"],\n",
        "            'JUB': ['1077',\"Jubilee Bible\"],   \n",
        "            'KJV': ['1',\"King James Version\"],\n",
        "            'KJVA': ['546', \"King James Version with Apocrypha, American Edition\"],    \n",
        "            'KJVA': ['547', \"King James Version, American Edition\"],\n",
        "            'LEB': ['90', \"Lexham English Bible\"],   \n",
        "            'MEV': ['1171', \"Modern English Version\"],\n",
        "            'MSG': ['97',\"The Message\"],   \n",
        "            'NABRE': ['463',\"New American Bible, revised edition\"],\n",
        "            'NASB': ['100',\"New American Standard Bible\"],   \n",
        "            'NCV': ['105',\"New Century Version\"],\n",
        "            'NET': ['107',\"New English Translation\"],    \n",
        "            'NIRV': ['110',\"New International Reader’s Version\"],\n",
        "            'NIV': ['111',\"New International Version\"],\n",
        "            'NIVUK': ['113',\"New International Version (Anglicised)\"],   \n",
        "            'NKJV': ['114',\"New King James Version\"],\n",
        "            'NLT': ['116',\"New Living Translation\"],    \n",
        "            'NMV': ['2135',\"New Revised Standard Version Catholic Interconfessional\"],\n",
        "            'RSV': ['2016',\"Revised Standard Version\"],    \n",
        "            'RSV-CI': ['2017',\"Revised Standard Version_2\"],\n",
        "            'RV1885': ['477',\"Revised Version 1885\"],    \n",
        "            'RV1895': ['1922',\"Revised Version with Apocrypha 1895\"],\n",
        "            'TLV': ['314',\"Tree of Life Version\"],    \n",
        "            'TS2009': ['316',\"The Scriptures 2009\"],\n",
        "            'WBMS': ['2407',\"Wycliffe's Bible with Modern Spelling\"],    \n",
        "            'WEB': ['206',\"World English Bible\"],\n",
        "            'WEBBE': ['1204',\"World English Bible British Edition\"],  \n",
        "            'WMB': ['1209',\"World Messianic Bible\"],\n",
        "            'WMBBE': ['1207',\"World Messianic Bible British Edition\"],    \n",
        "            'YLT1898': ['821',\"Young's Literal Translation 3rd Revision 1898\"],\n",
        "           }\n",
        "\n",
        "short_v = list(version.keys())"
      ],
      "execution_count": 0,
      "outputs": []
    },
    {
      "cell_type": "code",
      "metadata": {
        "id": "alYst8v6k6HB",
        "colab_type": "code",
        "colab": {}
      },
      "source": [
        "#GET to one part\n",
        "def get_one_part(lines, s, soup):\n",
        "  \n",
        "  # n is number of lines\n",
        "  n = 1\n",
        "  \n",
        "  while(1):\n",
        "    # lines에 해당하는 span content 가져오기 (오른쪽 클릭 copy selector 하면 path 가져올 수 있음)\n",
        "    line = str(soup.select('body span.verse.v'+ str(n) + ' > span.content'))\n",
        "    \n",
        "    # The line is empty ('[]'), then break\n",
        "    if len(line) == 2: break\n",
        "\n",
        "    # line만 남도록 처리\n",
        "    line = re.sub('<.+?>', '', line, 0).strip() # html 형식 지우기\n",
        "    line = re.sub(',  ', '', line)              # 끝에 붙은 ,  공백 지우기\n",
        "    lines.append(f'{n}{line[1:-1]}')            # 앞, 뒤에 붙은 [] 지우고 lines에 append\n",
        "  \n",
        "    n += 1 \n",
        "\n",
        "  # 몇 챕터고, 라인의 끝이 어딘지\n",
        "  #print(f\"It's {s} chapter, Number of lines is {n-1}\")\n",
        "\n",
        "  return lines\n",
        "\n",
        "#GET to all lines of one version\n",
        "def get_all_lines(version, url_set):\n",
        "  lines = []\n",
        "\n",
        "  for s in range(1,51):\n",
        "    # 'https://www.bible.com/bible/1/GEN.(page).(version)'에 해당하는 url 선언\n",
        "    url = 'https://www.bible.com/bible/'+url_set+'/GEN.'+str(s)+'.'+version\n",
        "\n",
        "    # 403에러 발생시 처리 해주면 에러 안뜸\n",
        "    r   = Request(url, headers={'User-Agent': 'Mozilla/5.0'}) \n",
        "\n",
        "    # html 정보 긁어오기\n",
        "    source = urlopen(r).read()  \n",
        "    soup = BeautifulSoup(source, \"html.parser\")\n",
        "\n",
        "    lines = get_one_part(lines, s, soup)\n",
        "\n",
        "    #print(f\" >>> Last sentence \\n     {lines[-1]} \\n\")\n",
        "\n",
        "  return lines\n",
        "\n",
        "\n"
      ],
      "execution_count": 0,
      "outputs": []
    },
    {
      "cell_type": "code",
      "metadata": {
        "id": "im52EqgcmEDk",
        "colab_type": "code",
        "colab": {}
      },
      "source": [
        "def write_file(file_name, lines):\n",
        "  base_dir = os.path.join('./gdrive/My Drive/all_save_bible/')\n",
        "  with open(os.path.join(base_dir+ file_name +'.txt'), \"w\") as f:\n",
        "    for i, line in enumerate(lines):\n",
        "      f.write(line)\n",
        "      f.write(\"\\n\")"
      ],
      "execution_count": 0,
      "outputs": []
    },
    {
      "cell_type": "code",
      "metadata": {
        "id": "fT4X3gqck6J5",
        "colab_type": "code",
        "outputId": "59c83d44-096f-4a74-ce78-f1db921f50d0",
        "colab": {
          "base_uri": "https://localhost:8080/",
          "height": 918
        }
      },
      "source": [
        "print(len(short_v))\n",
        "\n",
        "for v in short_v:\n",
        "  all_lines = get_all_lines(v, version[v][0])\n",
        "  write_file(version[v][1], all_lines)\n",
        "\n",
        "  print(f\"{version[v][1]} is done\")"
      ],
      "execution_count": 0,
      "outputs": [
        {
          "output_type": "stream",
          "text": [
            "52\n",
            "Amplified Bible is done\n",
            "Amplified Bible_2 is done\n",
            "Classic Edition is done\n",
            "Common English Bible is done\n",
            "Contemporary English Version is done\n",
            "Contemporary English Version Interconfessional Edition is done\n",
            "Contemporary English Version (Anglicised) 2012 is done\n",
            "Complete Jewish Bible is done\n",
            "Catholic Public Domain Version is done\n",
            "Christian Standard Bible is done\n",
            "Darby's Translation 1890 is done\n",
            "Douay-Rheims Challoner Revision 1752 is done\n",
            "EasyEnglish Bible 2018 is done\n",
            "Holy Bible: Easy-to-Read Version is done\n",
            "English Standard Version is done\n",
            "Good News Bible is done\n",
            "Good News Bible (Anglicised) is done\n",
            "Good News Bible (Catholic edition in Septuagint order) is done\n",
            "Good News Translation is done\n",
            "Good News Translation (US Version) is done\n",
            "Geneva Bible is done\n",
            "GOD'S WORD Translation is done\n",
            "Holman Christian Standard Bible is done\n",
            "International Children’s Bible is done\n",
            "Jubilee Bible is done\n",
            "King James Version is done\n",
            "King James Version, American Edition is done\n",
            "Lexham English Bible is done\n",
            "Modern English Version is done\n",
            "The Message is done\n",
            "New American Bible, revised edition is done\n",
            "New American Standard Bible is done\n",
            "New Century Version is done\n",
            "New English Translation is done\n",
            "New International Reader’s Version is done\n",
            "New International Version is done\n",
            "New International Version (Anglicised) is done\n",
            "New King James Version is done\n",
            "New Living Translation is done\n",
            "New Revised Standard Version Catholic Interconfessional is done\n",
            "Revised Standard Version is done\n",
            "Revised Standard Version_2 is done\n",
            "Revised Version 1885 is done\n",
            "Revised Version with Apocrypha 1895 is done\n",
            "Tree of Life Version is done\n",
            "The Scriptures 2009 is done\n",
            "Wycliffe's Bible with Modern Spelling is done\n",
            "World English Bible is done\n",
            "World English Bible British Edition is done\n",
            "World Messianic Bible is done\n",
            "World Messianic Bible British Edition is done\n",
            "Young's Literal Translation 3rd Revision 1898 is done\n"
          ],
          "name": "stdout"
        }
      ]
    }
  ]
}